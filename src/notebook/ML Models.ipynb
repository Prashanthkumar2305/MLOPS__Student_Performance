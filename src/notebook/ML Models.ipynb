{
 "cells": [
  {
   "cell_type": "markdown",
   "id": "2f67fe98",
   "metadata": {},
   "source": [
    "# Model Building and training"
   ]
  },
  {
   "cell_type": "markdown",
   "id": "59b3f9ea",
   "metadata": {},
   "source": [
    "## 1.1 Import required packages:"
   ]
  },
  {
   "cell_type": "code",
   "execution_count": 3,
   "id": "73ff00fc",
   "metadata": {},
   "outputs": [],
   "source": [
    "import pandas as pd\n",
    "import numpy as np\n",
    "import matplotlib.pyplot as plt\n",
    "%matplotlib inline\n",
    "import warnings\n",
    "warnings.filterwarnings('ignore')\n",
    "import seaborn as sns\n",
    "\n",
    "# Modelling packages\n",
    "from sklearn.neighbors import KNeighborsRegressor\n",
    "from sklearn.tree import DecisionTreeRegressor\n",
    "from sklearn.ensemble import RandomForestRegressor,AdaBoostRegressor\n",
    "from sklearn.linear_model import LinearRegression,Ridge,Lasso\n",
    "from sklearn.svm import SVR\n",
    "from sklearn.metrics import *\n",
    "from sklearn.model_selection import train_test_split,RandomizedSearchCV\n",
    "from catboost import CatBoostRegressor\n",
    "from xgboost import XGBRegressor\n"
   ]
  },
  {
   "cell_type": "markdown",
   "id": "54cc72c4",
   "metadata": {},
   "source": [
    "Note:\n",
    "- we install some libraries not in my environment later we put into those packages into \"requirements.txt\" it will take care of it. (pip install <'package_name'>)"
   ]
  },
  {
   "cell_type": "markdown",
   "id": "a6a03778",
   "metadata": {},
   "source": [
    "Import datasets"
   ]
  },
  {
   "cell_type": "code",
   "execution_count": 4,
   "id": "01a0a4fa",
   "metadata": {},
   "outputs": [],
   "source": [
    "df = pd.read_csv(r'E:\\Performance_of_student\\src\\notebook\\Data\\stud.csv')\n"
   ]
  },
  {
   "cell_type": "code",
   "execution_count": 5,
   "id": "3597d490",
   "metadata": {},
   "outputs": [
    {
     "data": {
      "text/html": [
       "<div>\n",
       "<style scoped>\n",
       "    .dataframe tbody tr th:only-of-type {\n",
       "        vertical-align: middle;\n",
       "    }\n",
       "\n",
       "    .dataframe tbody tr th {\n",
       "        vertical-align: top;\n",
       "    }\n",
       "\n",
       "    .dataframe thead th {\n",
       "        text-align: right;\n",
       "    }\n",
       "</style>\n",
       "<table border=\"1\" class=\"dataframe\">\n",
       "  <thead>\n",
       "    <tr style=\"text-align: right;\">\n",
       "      <th></th>\n",
       "      <th>gender</th>\n",
       "      <th>race_ethnicity</th>\n",
       "      <th>parental_level_of_education</th>\n",
       "      <th>lunch</th>\n",
       "      <th>test_preparation_course</th>\n",
       "      <th>math_score</th>\n",
       "      <th>reading_score</th>\n",
       "      <th>writing_score</th>\n",
       "    </tr>\n",
       "  </thead>\n",
       "  <tbody>\n",
       "    <tr>\n",
       "      <th>0</th>\n",
       "      <td>female</td>\n",
       "      <td>group B</td>\n",
       "      <td>bachelor's degree</td>\n",
       "      <td>standard</td>\n",
       "      <td>none</td>\n",
       "      <td>72</td>\n",
       "      <td>72</td>\n",
       "      <td>74</td>\n",
       "    </tr>\n",
       "    <tr>\n",
       "      <th>1</th>\n",
       "      <td>female</td>\n",
       "      <td>group C</td>\n",
       "      <td>some college</td>\n",
       "      <td>standard</td>\n",
       "      <td>completed</td>\n",
       "      <td>69</td>\n",
       "      <td>90</td>\n",
       "      <td>88</td>\n",
       "    </tr>\n",
       "    <tr>\n",
       "      <th>2</th>\n",
       "      <td>female</td>\n",
       "      <td>group B</td>\n",
       "      <td>master's degree</td>\n",
       "      <td>standard</td>\n",
       "      <td>none</td>\n",
       "      <td>90</td>\n",
       "      <td>95</td>\n",
       "      <td>93</td>\n",
       "    </tr>\n",
       "    <tr>\n",
       "      <th>3</th>\n",
       "      <td>male</td>\n",
       "      <td>group A</td>\n",
       "      <td>associate's degree</td>\n",
       "      <td>free/reduced</td>\n",
       "      <td>none</td>\n",
       "      <td>47</td>\n",
       "      <td>57</td>\n",
       "      <td>44</td>\n",
       "    </tr>\n",
       "    <tr>\n",
       "      <th>4</th>\n",
       "      <td>male</td>\n",
       "      <td>group C</td>\n",
       "      <td>some college</td>\n",
       "      <td>standard</td>\n",
       "      <td>none</td>\n",
       "      <td>76</td>\n",
       "      <td>78</td>\n",
       "      <td>75</td>\n",
       "    </tr>\n",
       "  </tbody>\n",
       "</table>\n",
       "</div>"
      ],
      "text/plain": [
       "   gender race_ethnicity parental_level_of_education         lunch  \\\n",
       "0  female        group B           bachelor's degree      standard   \n",
       "1  female        group C                some college      standard   \n",
       "2  female        group B             master's degree      standard   \n",
       "3    male        group A          associate's degree  free/reduced   \n",
       "4    male        group C                some college      standard   \n",
       "\n",
       "  test_preparation_course  math_score  reading_score  writing_score  \n",
       "0                    none          72             72             74  \n",
       "1               completed          69             90             88  \n",
       "2                    none          90             95             93  \n",
       "3                    none          47             57             44  \n",
       "4                    none          76             78             75  "
      ]
     },
     "execution_count": 5,
     "metadata": {},
     "output_type": "execute_result"
    }
   ],
   "source": [
    "# Top 5 records\n",
    "\n",
    "df.head()"
   ]
  },
  {
   "cell_type": "markdown",
   "id": "d2eea65b",
   "metadata": {},
   "source": [
    "## Split independent(X) and dependent variables(Y)"
   ]
  },
  {
   "cell_type": "markdown",
   "id": "96b699b3",
   "metadata": {},
   "source": [
    "### Adding two features like Total_score and Average"
   ]
  },
  {
   "cell_type": "code",
   "execution_count": 6,
   "id": "61145a8c",
   "metadata": {},
   "outputs": [],
   "source": [
    "df['total_score']=df['math_score']+df['reading_score']+df['writing_score']\n",
    "df['avg_score']=round(df['total_score']/3,2)"
   ]
  },
  {
   "cell_type": "code",
   "execution_count": 7,
   "id": "d12317a5",
   "metadata": {},
   "outputs": [
    {
     "data": {
      "text/html": [
       "<div>\n",
       "<style scoped>\n",
       "    .dataframe tbody tr th:only-of-type {\n",
       "        vertical-align: middle;\n",
       "    }\n",
       "\n",
       "    .dataframe tbody tr th {\n",
       "        vertical-align: top;\n",
       "    }\n",
       "\n",
       "    .dataframe thead th {\n",
       "        text-align: right;\n",
       "    }\n",
       "</style>\n",
       "<table border=\"1\" class=\"dataframe\">\n",
       "  <thead>\n",
       "    <tr style=\"text-align: right;\">\n",
       "      <th></th>\n",
       "      <th>gender</th>\n",
       "      <th>race_ethnicity</th>\n",
       "      <th>parental_level_of_education</th>\n",
       "      <th>lunch</th>\n",
       "      <th>test_preparation_course</th>\n",
       "      <th>math_score</th>\n",
       "      <th>reading_score</th>\n",
       "      <th>writing_score</th>\n",
       "      <th>total_score</th>\n",
       "      <th>avg_score</th>\n",
       "    </tr>\n",
       "  </thead>\n",
       "  <tbody>\n",
       "    <tr>\n",
       "      <th>0</th>\n",
       "      <td>female</td>\n",
       "      <td>group B</td>\n",
       "      <td>bachelor's degree</td>\n",
       "      <td>standard</td>\n",
       "      <td>none</td>\n",
       "      <td>72</td>\n",
       "      <td>72</td>\n",
       "      <td>74</td>\n",
       "      <td>218</td>\n",
       "      <td>72.67</td>\n",
       "    </tr>\n",
       "    <tr>\n",
       "      <th>1</th>\n",
       "      <td>female</td>\n",
       "      <td>group C</td>\n",
       "      <td>some college</td>\n",
       "      <td>standard</td>\n",
       "      <td>completed</td>\n",
       "      <td>69</td>\n",
       "      <td>90</td>\n",
       "      <td>88</td>\n",
       "      <td>247</td>\n",
       "      <td>82.33</td>\n",
       "    </tr>\n",
       "    <tr>\n",
       "      <th>2</th>\n",
       "      <td>female</td>\n",
       "      <td>group B</td>\n",
       "      <td>master's degree</td>\n",
       "      <td>standard</td>\n",
       "      <td>none</td>\n",
       "      <td>90</td>\n",
       "      <td>95</td>\n",
       "      <td>93</td>\n",
       "      <td>278</td>\n",
       "      <td>92.67</td>\n",
       "    </tr>\n",
       "    <tr>\n",
       "      <th>3</th>\n",
       "      <td>male</td>\n",
       "      <td>group A</td>\n",
       "      <td>associate's degree</td>\n",
       "      <td>free/reduced</td>\n",
       "      <td>none</td>\n",
       "      <td>47</td>\n",
       "      <td>57</td>\n",
       "      <td>44</td>\n",
       "      <td>148</td>\n",
       "      <td>49.33</td>\n",
       "    </tr>\n",
       "    <tr>\n",
       "      <th>4</th>\n",
       "      <td>male</td>\n",
       "      <td>group C</td>\n",
       "      <td>some college</td>\n",
       "      <td>standard</td>\n",
       "      <td>none</td>\n",
       "      <td>76</td>\n",
       "      <td>78</td>\n",
       "      <td>75</td>\n",
       "      <td>229</td>\n",
       "      <td>76.33</td>\n",
       "    </tr>\n",
       "  </tbody>\n",
       "</table>\n",
       "</div>"
      ],
      "text/plain": [
       "   gender race_ethnicity parental_level_of_education         lunch  \\\n",
       "0  female        group B           bachelor's degree      standard   \n",
       "1  female        group C                some college      standard   \n",
       "2  female        group B             master's degree      standard   \n",
       "3    male        group A          associate's degree  free/reduced   \n",
       "4    male        group C                some college      standard   \n",
       "\n",
       "  test_preparation_course  math_score  reading_score  writing_score  \\\n",
       "0                    none          72             72             74   \n",
       "1               completed          69             90             88   \n",
       "2                    none          90             95             93   \n",
       "3                    none          47             57             44   \n",
       "4                    none          76             78             75   \n",
       "\n",
       "   total_score  avg_score  \n",
       "0          218      72.67  \n",
       "1          247      82.33  \n",
       "2          278      92.67  \n",
       "3          148      49.33  \n",
       "4          229      76.33  "
      ]
     },
     "execution_count": 7,
     "metadata": {},
     "output_type": "execute_result"
    }
   ],
   "source": [
    "df.head()"
   ]
  },
  {
   "cell_type": "markdown",
   "id": "4b681c32",
   "metadata": {},
   "source": [
    "- Independent variables (X):- Except avg_score taken has dependent variable."
   ]
  },
  {
   "cell_type": "code",
   "execution_count": 8,
   "id": "3765edcc",
   "metadata": {},
   "outputs": [],
   "source": [
    "X=df.drop(columns=['avg_score'],axis=1)"
   ]
  },
  {
   "cell_type": "code",
   "execution_count": 9,
   "id": "7894a28f",
   "metadata": {},
   "outputs": [
    {
     "data": {
      "text/html": [
       "<div>\n",
       "<style scoped>\n",
       "    .dataframe tbody tr th:only-of-type {\n",
       "        vertical-align: middle;\n",
       "    }\n",
       "\n",
       "    .dataframe tbody tr th {\n",
       "        vertical-align: top;\n",
       "    }\n",
       "\n",
       "    .dataframe thead th {\n",
       "        text-align: right;\n",
       "    }\n",
       "</style>\n",
       "<table border=\"1\" class=\"dataframe\">\n",
       "  <thead>\n",
       "    <tr style=\"text-align: right;\">\n",
       "      <th></th>\n",
       "      <th>gender</th>\n",
       "      <th>race_ethnicity</th>\n",
       "      <th>parental_level_of_education</th>\n",
       "      <th>lunch</th>\n",
       "      <th>test_preparation_course</th>\n",
       "      <th>math_score</th>\n",
       "      <th>reading_score</th>\n",
       "      <th>writing_score</th>\n",
       "      <th>total_score</th>\n",
       "    </tr>\n",
       "  </thead>\n",
       "  <tbody>\n",
       "    <tr>\n",
       "      <th>0</th>\n",
       "      <td>female</td>\n",
       "      <td>group B</td>\n",
       "      <td>bachelor's degree</td>\n",
       "      <td>standard</td>\n",
       "      <td>none</td>\n",
       "      <td>72</td>\n",
       "      <td>72</td>\n",
       "      <td>74</td>\n",
       "      <td>218</td>\n",
       "    </tr>\n",
       "    <tr>\n",
       "      <th>1</th>\n",
       "      <td>female</td>\n",
       "      <td>group C</td>\n",
       "      <td>some college</td>\n",
       "      <td>standard</td>\n",
       "      <td>completed</td>\n",
       "      <td>69</td>\n",
       "      <td>90</td>\n",
       "      <td>88</td>\n",
       "      <td>247</td>\n",
       "    </tr>\n",
       "    <tr>\n",
       "      <th>2</th>\n",
       "      <td>female</td>\n",
       "      <td>group B</td>\n",
       "      <td>master's degree</td>\n",
       "      <td>standard</td>\n",
       "      <td>none</td>\n",
       "      <td>90</td>\n",
       "      <td>95</td>\n",
       "      <td>93</td>\n",
       "      <td>278</td>\n",
       "    </tr>\n",
       "    <tr>\n",
       "      <th>3</th>\n",
       "      <td>male</td>\n",
       "      <td>group A</td>\n",
       "      <td>associate's degree</td>\n",
       "      <td>free/reduced</td>\n",
       "      <td>none</td>\n",
       "      <td>47</td>\n",
       "      <td>57</td>\n",
       "      <td>44</td>\n",
       "      <td>148</td>\n",
       "    </tr>\n",
       "    <tr>\n",
       "      <th>4</th>\n",
       "      <td>male</td>\n",
       "      <td>group C</td>\n",
       "      <td>some college</td>\n",
       "      <td>standard</td>\n",
       "      <td>none</td>\n",
       "      <td>76</td>\n",
       "      <td>78</td>\n",
       "      <td>75</td>\n",
       "      <td>229</td>\n",
       "    </tr>\n",
       "  </tbody>\n",
       "</table>\n",
       "</div>"
      ],
      "text/plain": [
       "   gender race_ethnicity parental_level_of_education         lunch  \\\n",
       "0  female        group B           bachelor's degree      standard   \n",
       "1  female        group C                some college      standard   \n",
       "2  female        group B             master's degree      standard   \n",
       "3    male        group A          associate's degree  free/reduced   \n",
       "4    male        group C                some college      standard   \n",
       "\n",
       "  test_preparation_course  math_score  reading_score  writing_score  \\\n",
       "0                    none          72             72             74   \n",
       "1               completed          69             90             88   \n",
       "2                    none          90             95             93   \n",
       "3                    none          47             57             44   \n",
       "4                    none          76             78             75   \n",
       "\n",
       "   total_score  \n",
       "0          218  \n",
       "1          247  \n",
       "2          278  \n",
       "3          148  \n",
       "4          229  "
      ]
     },
     "execution_count": 9,
     "metadata": {},
     "output_type": "execute_result"
    }
   ],
   "source": [
    "X.head()"
   ]
  },
  {
   "cell_type": "code",
   "execution_count": 10,
   "id": "3cd09b3a",
   "metadata": {},
   "outputs": [
    {
     "name": "stdout",
     "output_type": "stream",
     "text": [
      "categories in  gender variable :   ['female' 'male']\n",
      "\n",
      "categories in  race_ethnicity variable :   ['group B' 'group C' 'group A' 'group D' 'group E']\n",
      "\n",
      "categories in  parental_level_of_education variable :   [\"bachelor's degree\" 'some college' \"master's degree\" \"associate's degree\"\n",
      " 'high school' 'some high school']\n",
      "\n",
      "categories in  lunch variable :   ['standard' 'free/reduced']\n",
      "\n",
      "categories in  test_preparation_course variable :   ['none' 'completed']\n",
      "\n"
     ]
    }
   ],
   "source": [
    "for i in df.columns[:5]:\n",
    "    print(\"categories in \",i,\"variable :  \",df[i].unique())\n",
    "    print()"
   ]
  },
  {
   "cell_type": "code",
   "execution_count": 11,
   "id": "e91a877b",
   "metadata": {},
   "outputs": [],
   "source": [
    "y=df['avg_score']"
   ]
  },
  {
   "cell_type": "code",
   "execution_count": 12,
   "id": "c12b2b50",
   "metadata": {},
   "outputs": [
    {
     "data": {
      "text/plain": [
       "0      72.67\n",
       "1      82.33\n",
       "2      92.67\n",
       "3      49.33\n",
       "4      76.33\n",
       "       ...  \n",
       "995    94.00\n",
       "996    57.33\n",
       "997    65.00\n",
       "998    74.33\n",
       "999    83.00\n",
       "Name: avg_score, Length: 1000, dtype: float64"
      ]
     },
     "execution_count": 12,
     "metadata": {},
     "output_type": "execute_result"
    }
   ],
   "source": [
    "y"
   ]
  },
  {
   "cell_type": "code",
   "execution_count": 13,
   "id": "88423a29",
   "metadata": {},
   "outputs": [],
   "source": [
    "numerical_fea=X.select_dtypes(exclude='object').columns\n",
    "categorical_fea=X.select_dtypes(include='object').columns\n",
    "\n",
    "from sklearn.preprocessing import OneHotEncoder,StandardScaler\n",
    "from sklearn.compose import ColumnTransformer\n",
    "\n",
    "# For numerical features no need to apply any conversion method so we apply Standardscaler()\n",
    "num_transform=StandardScaler()\n",
    "one_hot=OneHotEncoder()\n",
    "\n",
    "preprocessor=ColumnTransformer(\n",
    "                [\n",
    "    (\"OneHotEncoder\",one_hot,categorical_fea),\n",
    "    (\"StandardScaler\",num_transform,numerical_fea)\n",
    "                ]\n",
    "    )"
   ]
  },
  {
   "cell_type": "code",
   "execution_count": 14,
   "id": "6436fad6",
   "metadata": {},
   "outputs": [],
   "source": [
    "X=preprocessor.fit_transform(X)"
   ]
  },
  {
   "cell_type": "code",
   "execution_count": 15,
   "id": "ccbe0509",
   "metadata": {},
   "outputs": [
    {
     "data": {
      "text/plain": [
       "array([[ 1.        ,  0.        ,  0.        , ...,  0.19399858,\n",
       "         0.39149181,  0.34357423],\n",
       "       [ 1.        ,  0.        ,  0.        , ...,  1.42747598,\n",
       "         1.31326868,  1.0219275 ],\n",
       "       [ 1.        ,  0.        ,  0.        , ...,  1.77010859,\n",
       "         1.64247471,  1.74706375],\n",
       "       ...,\n",
       "       [ 1.        ,  0.        ,  0.        , ...,  0.12547206,\n",
       "        -0.20107904, -0.19443008],\n",
       "       [ 1.        ,  0.        ,  0.        , ...,  0.60515772,\n",
       "         0.58901542,  0.46053169],\n",
       "       [ 1.        ,  0.        ,  0.        , ...,  1.15336989,\n",
       "         1.18158627,  1.06871048]])"
      ]
     },
     "execution_count": 15,
     "metadata": {},
     "output_type": "execute_result"
    }
   ],
   "source": [
    "X"
   ]
  },
  {
   "cell_type": "code",
   "execution_count": 16,
   "id": "51d70550",
   "metadata": {},
   "outputs": [
    {
     "data": {
      "text/plain": [
       "(1000, 21)"
      ]
     },
     "execution_count": 16,
     "metadata": {},
     "output_type": "execute_result"
    }
   ],
   "source": [
    "X.shape"
   ]
  },
  {
   "cell_type": "code",
   "execution_count": 17,
   "id": "d2453e32",
   "metadata": {},
   "outputs": [
    {
     "data": {
      "text/plain": [
       "((800, 21), (200, 21))"
      ]
     },
     "execution_count": 17,
     "metadata": {},
     "output_type": "execute_result"
    }
   ],
   "source": [
    "# Applying train_test_split in the datasets\n",
    "\n",
    "from sklearn.model_selection import train_test_split\n",
    "X_train,X_test,y_train,y_test=train_test_split(X,y,test_size=0.2,random_state=42)\n",
    "X_train.shape,X_test.shape"
   ]
  },
  {
   "cell_type": "markdown",
   "id": "5dc44458",
   "metadata": {},
   "source": [
    "Create a function with all metrics after the model trains."
   ]
  },
  {
   "cell_type": "code",
   "execution_count": 18,
   "id": "4f26a437",
   "metadata": {},
   "outputs": [],
   "source": [
    "def model_evaluation(actual,predicted):\n",
    "    mae=mean_absolute_error(actual,predicted)\n",
    "    mse=mean_squared_error(actual,predicted)\n",
    "    rmse=np.sqrt(mean_squared_error(actual,predicted))\n",
    "    r2_square=r2_score(actual,predicted)\n",
    "    return mae,mse,rmse,r2_square"
   ]
  },
  {
   "cell_type": "code",
   "execution_count": 19,
   "id": "5311495c",
   "metadata": {},
   "outputs": [
    {
     "name": "stdout",
     "output_type": "stream",
     "text": [
      "Linear Regression\n",
      "Model Performance for training\n",
      "- Mean Absolute Error : 0.002\n",
      "- Mean Square Error : 0.000\n",
      "- Root Mean Square Error : 0.003\n",
      "- R2 Square : 1.000\n",
      "----------------------------------------\n",
      "Model Performance for testing\n",
      "- Mean Absolute Error : 0.002\n",
      "- Mean Square Error : 0.000\n",
      "- Root Mean Square Error : 0.003\n",
      "- R2 square : 1.000\n",
      "***************************************\n",
      "\n",
      "\n",
      "Lasso\n",
      "Model Performance for training\n",
      "- Mean Absolute Error : 0.807\n",
      "- Mean Square Error : 1.018\n",
      "- Root Mean Square Error : 1.009\n",
      "- R2 Square : 0.995\n",
      "----------------------------------------\n",
      "Model Performance for testing\n",
      "- Mean Absolute Error : 0.831\n",
      "- Mean Square Error : 1.115\n",
      "- Root Mean Square Error : 1.056\n",
      "- R2 square : 0.995\n",
      "***************************************\n",
      "\n",
      "\n",
      "Ridge\n",
      "Model Performance for training\n",
      "- Mean Absolute Error : 0.005\n",
      "- Mean Square Error : 0.000\n",
      "- Root Mean Square Error : 0.006\n",
      "- R2 Square : 1.000\n",
      "----------------------------------------\n",
      "Model Performance for testing\n",
      "- Mean Absolute Error : 0.006\n",
      "- Mean Square Error : 0.000\n",
      "- Root Mean Square Error : 0.007\n",
      "- R2 square : 1.000\n",
      "***************************************\n",
      "\n",
      "\n",
      "K-Neighbours Regressor\n",
      "Model Performance for training\n",
      "- Mean Absolute Error : 1.557\n",
      "- Mean Square Error : 3.927\n",
      "- Root Mean Square Error : 1.982\n",
      "- R2 Square : 0.980\n",
      "----------------------------------------\n",
      "Model Performance for testing\n",
      "- Mean Absolute Error : 1.923\n",
      "- Mean Square Error : 7.108\n",
      "- Root Mean Square Error : 2.666\n",
      "- R2 square : 0.967\n",
      "***************************************\n",
      "\n",
      "\n",
      "Decision Regressor \n",
      "Model Performance for training\n",
      "- Mean Absolute Error : 0.000\n",
      "- Mean Square Error : 0.000\n",
      "- Root Mean Square Error : 0.000\n",
      "- R2 Square : 1.000\n",
      "----------------------------------------\n",
      "Model Performance for testing\n",
      "- Mean Absolute Error : 0.085\n",
      "- Mean Square Error : 0.459\n",
      "- Root Mean Square Error : 0.678\n",
      "- R2 square : 0.998\n",
      "***************************************\n",
      "\n",
      "\n",
      "RandomForestRegressor \n",
      "Model Performance for training\n",
      "- Mean Absolute Error : 0.025\n",
      "- Mean Square Error : 0.013\n",
      "- Root Mean Square Error : 0.112\n",
      "- R2 Square : 1.000\n",
      "----------------------------------------\n",
      "Model Performance for testing\n",
      "- Mean Absolute Error : 0.115\n",
      "- Mean Square Error : 0.751\n",
      "- Root Mean Square Error : 0.867\n",
      "- R2 square : 0.996\n",
      "***************************************\n",
      "\n",
      "\n",
      "XGBRegressor \n",
      "Model Performance for training\n",
      "- Mean Absolute Error : 0.012\n",
      "- Mean Square Error : 0.000\n",
      "- Root Mean Square Error : 0.016\n",
      "- R2 Square : 1.000\n",
      "----------------------------------------\n",
      "Model Performance for testing\n",
      "- Mean Absolute Error : 0.199\n",
      "- Mean Square Error : 0.367\n",
      "- Root Mean Square Error : 0.606\n",
      "- R2 square : 0.998\n",
      "***************************************\n",
      "\n",
      "\n",
      "Catboosting Regressor \n",
      "Model Performance for training\n",
      "- Mean Absolute Error : 0.103\n",
      "- Mean Square Error : 0.016\n",
      "- Root Mean Square Error : 0.127\n",
      "- R2 Square : 1.000\n",
      "----------------------------------------\n",
      "Model Performance for testing\n",
      "- Mean Absolute Error : 0.313\n",
      "- Mean Square Error : 1.060\n",
      "- Root Mean Square Error : 1.030\n",
      "- R2 square : 0.995\n",
      "***************************************\n",
      "\n",
      "\n",
      "AdaBoost Regressor \n",
      "Model Performance for training\n",
      "- Mean Absolute Error : 0.988\n",
      "- Mean Square Error : 1.559\n",
      "- Root Mean Square Error : 1.249\n",
      "- R2 Square : 0.992\n",
      "----------------------------------------\n",
      "Model Performance for testing\n",
      "- Mean Absolute Error : 0.956\n",
      "- Mean Square Error : 1.957\n",
      "- Root Mean Square Error : 1.399\n",
      "- R2 square : 0.991\n",
      "***************************************\n",
      "\n",
      "\n"
     ]
    }
   ],
   "source": [
    "models={\n",
    "    \"Linear Regression\" : LinearRegression(),\n",
    "    \"Lasso\" : Lasso(),\n",
    "    \"Ridge\" : Ridge(),\n",
    "    \"K-Neighbours Regressor\" : KNeighborsRegressor(),\n",
    "    \"Decision Regressor \" : DecisionTreeRegressor(),\n",
    "    \"RandomForestRegressor \" : RandomForestRegressor(),\n",
    "    \"XGBRegressor \" : XGBRegressor(),\n",
    "    \"Catboosting Regressor \" : CatBoostRegressor(verbose=False),\n",
    "    \"AdaBoost Regressor \" : AdaBoostRegressor()\n",
    "}\n",
    "\n",
    "model_list=[]\n",
    "r2_list=[]\n",
    "\n",
    "\n",
    "for i in range(len(list(models))):\n",
    "    model=list(models.values())[i]\n",
    "    model.fit(X_train,y_train)\n",
    "    \n",
    "    # Prediction\n",
    "    y_train_pred=model.predict(X_train)\n",
    "    y_test_pred=model.predict(X_test)\n",
    "\n",
    "    # Evaluation train and test datasets.\n",
    "    \n",
    "    model_train_mae,model_train_mse,model_train_rmse,model_train_r2=model_evaluation(y_train,y_train_pred)\n",
    "    model_test_mae,model_test_mse,model_test_rmse,model_test_r2=model_evaluation(y_test,y_test_pred)\n",
    "    \n",
    "    print(list(models.keys())[i])\n",
    "    model_list.append(list(models.keys())[i])\n",
    "    \n",
    "    print(\"Model Performance for training\")\n",
    "    print(\"- Mean Absolute Error : {:.3f}\".format(model_train_mae))\n",
    "    print(\"- Mean Square Error : {:.3f}\".format(model_train_mse))\n",
    "    print(\"- Root Mean Square Error : {:.3f}\".format(model_train_rmse))\n",
    "    print(\"- R2 Square : {:.3f}\".format(model_train_r2))\n",
    "    \n",
    "    print(\"----------------------------------------\")\n",
    "    \n",
    "    print(\"Model Performance for testing\")\n",
    "    print(\"- Mean Absolute Error : {:.3f}\".format(model_test_mae))\n",
    "    print(\"- Mean Square Error : {:.3f}\".format(model_test_mse))\n",
    "    print(\"- Root Mean Square Error : {:.3f}\".format(model_test_rmse))\n",
    "    print(\"- R2 square : {:.3f}\".format(model_test_r2))\n",
    "    r2_list.append(model_test_r2)\n",
    "    \n",
    "    print(\"*\"*39)\n",
    "    print('\\n')\n",
    "    "
   ]
  },
  {
   "cell_type": "code",
   "execution_count": 20,
   "id": "c1847ebe",
   "metadata": {},
   "outputs": [
    {
     "data": {
      "text/html": [
       "<div>\n",
       "<style scoped>\n",
       "    .dataframe tbody tr th:only-of-type {\n",
       "        vertical-align: middle;\n",
       "    }\n",
       "\n",
       "    .dataframe tbody tr th {\n",
       "        vertical-align: top;\n",
       "    }\n",
       "\n",
       "    .dataframe thead th {\n",
       "        text-align: right;\n",
       "    }\n",
       "</style>\n",
       "<table border=\"1\" class=\"dataframe\">\n",
       "  <thead>\n",
       "    <tr style=\"text-align: right;\">\n",
       "      <th></th>\n",
       "      <th>Model Name</th>\n",
       "      <th>R2_Score</th>\n",
       "    </tr>\n",
       "  </thead>\n",
       "  <tbody>\n",
       "    <tr>\n",
       "      <th>0</th>\n",
       "      <td>Linear Regression</td>\n",
       "      <td>1.000000</td>\n",
       "    </tr>\n",
       "    <tr>\n",
       "      <th>2</th>\n",
       "      <td>Ridge</td>\n",
       "      <td>1.000000</td>\n",
       "    </tr>\n",
       "    <tr>\n",
       "      <th>6</th>\n",
       "      <td>XGBRegressor</td>\n",
       "      <td>0.998287</td>\n",
       "    </tr>\n",
       "    <tr>\n",
       "      <th>4</th>\n",
       "      <td>Decision Regressor</td>\n",
       "      <td>0.997858</td>\n",
       "    </tr>\n",
       "    <tr>\n",
       "      <th>5</th>\n",
       "      <td>RandomForestRegressor</td>\n",
       "      <td>0.996495</td>\n",
       "    </tr>\n",
       "    <tr>\n",
       "      <th>7</th>\n",
       "      <td>Catboosting Regressor</td>\n",
       "      <td>0.995055</td>\n",
       "    </tr>\n",
       "    <tr>\n",
       "      <th>1</th>\n",
       "      <td>Lasso</td>\n",
       "      <td>0.994799</td>\n",
       "    </tr>\n",
       "    <tr>\n",
       "      <th>8</th>\n",
       "      <td>AdaBoost Regressor</td>\n",
       "      <td>0.990873</td>\n",
       "    </tr>\n",
       "    <tr>\n",
       "      <th>3</th>\n",
       "      <td>K-Neighbours Regressor</td>\n",
       "      <td>0.966841</td>\n",
       "    </tr>\n",
       "  </tbody>\n",
       "</table>\n",
       "</div>"
      ],
      "text/plain": [
       "               Model Name  R2_Score\n",
       "0       Linear Regression  1.000000\n",
       "2                   Ridge  1.000000\n",
       "6           XGBRegressor   0.998287\n",
       "4     Decision Regressor   0.997858\n",
       "5  RandomForestRegressor   0.996495\n",
       "7  Catboosting Regressor   0.995055\n",
       "1                   Lasso  0.994799\n",
       "8     AdaBoost Regressor   0.990873\n",
       "3  K-Neighbours Regressor  0.966841"
      ]
     },
     "execution_count": 20,
     "metadata": {},
     "output_type": "execute_result"
    }
   ],
   "source": [
    "pd.DataFrame(list(zip(model_list,r2_list)),columns=['Model Name',\"R2_Score\"]).sort_values(by=['R2_Score'],ascending=False)"
   ]
  },
  {
   "cell_type": "markdown",
   "id": "0e452a11",
   "metadata": {},
   "source": [
    "## Selected Linear Regression model"
   ]
  },
  {
   "cell_type": "code",
   "execution_count": 21,
   "id": "5e334db2",
   "metadata": {},
   "outputs": [
    {
     "name": "stdout",
     "output_type": "stream",
     "text": [
      "Accuracy of the Linear regression model is 100.00 \n"
     ]
    }
   ],
   "source": [
    "linear_model=LinearRegression(fit_intercept=True)\n",
    "Linear_model=linear_model.fit(X_train,y_train)\n",
    "y_pred=linear_model.predict(X_test)\n",
    "score=r2_score(y_test,y_pred)*100\n",
    "print(\"Accuracy of the Linear regression model is %.2f \"%score)"
   ]
  },
  {
   "cell_type": "markdown",
   "id": "55ae8dbf",
   "metadata": {},
   "source": [
    "Plot y_pred and y_test:"
   ]
  },
  {
   "cell_type": "code",
   "execution_count": 22,
   "id": "cf768922",
   "metadata": {},
   "outputs": [
    {
     "data": {
      "text/plain": [
       "Text(0, 0.5, 'Predicted')"
      ]
     },
     "execution_count": 22,
     "metadata": {},
     "output_type": "execute_result"
    },
    {
     "data": {
      "image/png": "[encoded data removed]",
      "text/plain": [
       "<Figure size 640x480 with 1 Axes>"
      ]
     },
     "metadata": {},
     "output_type": "display_data"
    }
   ],
   "source": [
    "plt.scatter(y_test,y_pred)\n",
    "plt.xlabel(\"actual\")\n",
    "plt.ylabel(\"Predicted\")"
   ]
  },
  {
   "cell_type": "code",
   "execution_count": 23,
   "id": "2648c131",
   "metadata": {},
   "outputs": [
    {
     "data": {
      "text/plain": [
       "<Axes: xlabel='avg_score'>"
      ]
     },
     "execution_count": 23,
     "metadata": {},
     "output_type": "execute_result"
    },
    {
     "data": {
      "image/png": "[encoded data removed]",
      "text/plain": [
       "<Figure size 640x480 with 1 Axes>"
      ]
     },
     "metadata": {},
     "output_type": "display_data"
    }
   ],
   "source": [
    "sns.regplot(x=y_test,y=y_pred,ci=None,color='red')"
   ]
  },
  {
   "cell_type": "markdown",
   "id": "0f07cc37",
   "metadata": {},
   "source": [
    "Difference Between Actual and Predicted values"
   ]
  },
  {
   "cell_type": "code",
   "execution_count": 24,
   "id": "a3c3eccd",
   "metadata": {},
   "outputs": [
    {
     "data": {
      "text/html": [
       "<div>\n",
       "<style scoped>\n",
       "    .dataframe tbody tr th:only-of-type {\n",
       "        vertical-align: middle;\n",
       "    }\n",
       "\n",
       "    .dataframe tbody tr th {\n",
       "        vertical-align: top;\n",
       "    }\n",
       "\n",
       "    .dataframe thead th {\n",
       "        text-align: right;\n",
       "    }\n",
       "</style>\n",
       "<table border=\"1\" class=\"dataframe\">\n",
       "  <thead>\n",
       "    <tr style=\"text-align: right;\">\n",
       "      <th></th>\n",
       "      <th>Actual value</th>\n",
       "      <th>Predicted_value</th>\n",
       "      <th>Difference</th>\n",
       "    </tr>\n",
       "  </thead>\n",
       "  <tbody>\n",
       "    <tr>\n",
       "      <th>521</th>\n",
       "      <td>87.00</td>\n",
       "      <td>87.000336</td>\n",
       "      <td>-0.000336</td>\n",
       "    </tr>\n",
       "    <tr>\n",
       "      <th>737</th>\n",
       "      <td>64.00</td>\n",
       "      <td>63.999786</td>\n",
       "      <td>0.000214</td>\n",
       "    </tr>\n",
       "    <tr>\n",
       "      <th>740</th>\n",
       "      <td>75.00</td>\n",
       "      <td>75.000510</td>\n",
       "      <td>-0.000510</td>\n",
       "    </tr>\n",
       "    <tr>\n",
       "      <th>660</th>\n",
       "      <td>74.67</td>\n",
       "      <td>74.665721</td>\n",
       "      <td>0.004279</td>\n",
       "    </tr>\n",
       "    <tr>\n",
       "      <th>411</th>\n",
       "      <td>81.67</td>\n",
       "      <td>81.665739</td>\n",
       "      <td>0.004261</td>\n",
       "    </tr>\n",
       "    <tr>\n",
       "      <th>...</th>\n",
       "      <td>...</td>\n",
       "      <td>...</td>\n",
       "      <td>...</td>\n",
       "    </tr>\n",
       "    <tr>\n",
       "      <th>408</th>\n",
       "      <td>55.00</td>\n",
       "      <td>55.001104</td>\n",
       "      <td>-0.001104</td>\n",
       "    </tr>\n",
       "    <tr>\n",
       "      <th>332</th>\n",
       "      <td>57.00</td>\n",
       "      <td>56.999799</td>\n",
       "      <td>0.000201</td>\n",
       "    </tr>\n",
       "    <tr>\n",
       "      <th>208</th>\n",
       "      <td>77.00</td>\n",
       "      <td>76.999847</td>\n",
       "      <td>0.000153</td>\n",
       "    </tr>\n",
       "    <tr>\n",
       "      <th>613</th>\n",
       "      <td>72.00</td>\n",
       "      <td>71.999827</td>\n",
       "      <td>0.000173</td>\n",
       "    </tr>\n",
       "    <tr>\n",
       "      <th>78</th>\n",
       "      <td>69.00</td>\n",
       "      <td>68.999936</td>\n",
       "      <td>0.000064</td>\n",
       "    </tr>\n",
       "  </tbody>\n",
       "</table>\n",
       "<p>200 rows × 3 columns</p>\n",
       "</div>"
      ],
      "text/plain": [
       "     Actual value  Predicted_value  Difference\n",
       "521         87.00        87.000336   -0.000336\n",
       "737         64.00        63.999786    0.000214\n",
       "740         75.00        75.000510   -0.000510\n",
       "660         74.67        74.665721    0.004279\n",
       "411         81.67        81.665739    0.004261\n",
       "..            ...              ...         ...\n",
       "408         55.00        55.001104   -0.001104\n",
       "332         57.00        56.999799    0.000201\n",
       "208         77.00        76.999847    0.000153\n",
       "613         72.00        71.999827    0.000173\n",
       "78          69.00        68.999936    0.000064\n",
       "\n",
       "[200 rows x 3 columns]"
      ]
     },
     "execution_count": 24,
     "metadata": {},
     "output_type": "execute_result"
    }
   ],
   "source": [
    "pre=pd.DataFrame({'Actual value':y_test,'Predicted_value':y_pred,'Difference':y_test-y_pred})\n",
    "pre"
   ]
  },
  {
   "cell_type": "code",
   "execution_count": null,
   "id": "599a495d",
   "metadata": {},
   "outputs": [],
   "source": []
  }
 ],
 "metadata": {
  "kernelspec": {
   "display_name": "Python 3 (ipykernel)",
   "language": "python",
   "name": "python3"
  },
  "language_info": {
   "codemirror_mode": {
    "name": "ipython",
    "version": 3
   },
   "file_extension": ".py",
   "mimetype": "text/x-python",
   "name": "python",
   "nbconvert_exporter": "python",
   "pygments_lexer": "ipython3",
   "version": "3.8.0"
  }
 },
 "nbformat": 4,
 "nbformat_minor": 5
}
